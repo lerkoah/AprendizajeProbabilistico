{
 "cells": [
  {
   "cell_type": "code",
   "execution_count": 5,
   "metadata": {},
   "outputs": [
    {
     "name": "stdout",
     "output_type": "stream",
     "text": [
      "Optimization terminated successfully.\n",
      "         Current function value: -19.460674\n",
      "         Iterations: 25\n",
      "         Function evaluations: 39\n",
      "         Gradient evaluations: 37\n",
      " fit_time: 0.013052000000000064\n",
      "      fun: -19.460673510616154\n",
      " hess_inv: array([[  2.00262805e-04,  -1.88731997e-05,   1.64438366e-05],\n",
      "       [ -1.88731997e-05,   1.01370750e-03,  -1.02948763e-03],\n",
      "       [  1.64438366e-05,  -1.02948763e-03,   1.46136146e-03]])\n",
      "      jac: array([ -2.35574585e-06,  -2.69948925e-06,  -7.03492756e-07])\n",
      "  message: 'Optimization terminated successfully.'\n",
      "     nfev: 39\n",
      "      nit: 25\n",
      "     njev: 37\n",
      "   status: 0\n",
      "  success: True\n",
      "        x: {'sigma': 0.091449148606658787, 'a': 0.50820136198067345, 'b': 0.3155224306654098}\n"
     ]
    }
   ],
   "source": [
    "import numpy as np\n",
    "import mle\n",
    "\n",
    "# Define model\n",
    "x = mle.var('x', observed=True, vector=True)\n",
    "y = mle.var('y', observed=True, vector=True)\n",
    "\n",
    "a = mle.var('a')\n",
    "b = mle.var('b')\n",
    "sigma = mle.var('sigma')\n",
    "\n",
    "model = mle.Normal(y, a * x + b, sigma)\n",
    "\n",
    "# Generate data\n",
    "xs = np.linspace(0, 2, 20)\n",
    "ys = 0.5 * xs + 0.3 + np.random.normal(0, 0.1, 20)\n",
    "\n",
    "# Fit model to data\n",
    "result = model.fit({'x': xs, 'y': ys}, {'a': 1, 'b': 1, 'sigma': 1})\n",
    "print(result)"
   ]
  }
 ],
 "metadata": {
  "kernelspec": {
   "display_name": "Python 3",
   "language": "python",
   "name": "python3"
  },
  "language_info": {
   "codemirror_mode": {
    "name": "ipython",
    "version": 3
   },
   "file_extension": ".py",
   "mimetype": "text/x-python",
   "name": "python",
   "nbconvert_exporter": "python",
   "pygments_lexer": "ipython3",
   "version": "3.6.1"
  }
 },
 "nbformat": 4,
 "nbformat_minor": 2
}
